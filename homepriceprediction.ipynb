{
 "cells": [
  {
   "cell_type": "code",
   "execution_count": 11,
   "id": "8ca9c83c",
   "metadata": {},
   "outputs": [
    {
     "name": "stdout",
     "output_type": "stream",
     "text": [
      "   area   price\n",
      "0  2600  550000\n",
      "1  3000  565000\n",
      "2  3200  610000\n",
      "3  3600  680000\n",
      "4  4000  725000\n",
      "<class 'pandas.core.frame.DataFrame'>\n",
      "RangeIndex: 5 entries, 0 to 4\n",
      "Data columns (total 2 columns):\n",
      " #   Column  Non-Null Count  Dtype\n",
      "---  ------  --------------  -----\n",
      " 0   area    5 non-null      int64\n",
      " 1   price   5 non-null      int64\n",
      "dtypes: int64(2)\n",
      "memory usage: 208.0 bytes\n",
      "None\n",
      "area     0\n",
      "price    0\n",
      "dtype: int64\n",
      "5\n",
      "2\n",
      "5\n",
      "2\n",
      "5\n",
      "2\n",
      "   area\n",
      "0  2600\n",
      "1  3000\n",
      "2  3200\n",
      "3  3600\n",
      "4  4000\n",
      "    price\n",
      "0  550000\n",
      "1  565000\n",
      "2  610000\n",
      "3  680000\n",
      "4  725000\n"
     ]
    },
    {
     "name": "stderr",
     "output_type": "stream",
     "text": [
      "C:\\Users\\kavana\\AppData\\Local\\Temp\\ipykernel_46932\\3138677.py:16: FutureWarning: In a future version of pandas all arguments of DataFrame.drop except for the argument 'labels' will be keyword-only.\n",
      "  inputs = data.drop('price','columns')\n",
      "C:\\Users\\kavana\\AppData\\Local\\Temp\\ipykernel_46932\\3138677.py:17: FutureWarning: In a future version of pandas all arguments of DataFrame.drop except for the argument 'labels' will be keyword-only.\n",
      "  output = data.drop('area','columns')\n"
     ]
    },
    {
     "data": {
      "image/png": "[encoded data removed]",
      "text/plain": [
       "<Figure size 432x288 with 1 Axes>"
      ]
     },
     "metadata": {
      "needs_background": "light"
     },
     "output_type": "display_data"
    },
    {
     "name": "stdout",
     "output_type": "stream",
     "text": [
      "[[533664.38356164]]\n",
      "95.84301138199486\n",
      "[180616.43835616]\n",
      "[[135.78767123]]\n",
      "[[533664.38356164]]\n"
     ]
    },
    {
     "name": "stderr",
     "output_type": "stream",
     "text": [
      "C:\\ProgramData\\Anaconda3\\lib\\site-packages\\sklearn\\base.py:450: UserWarning: X does not have valid feature names, but LinearRegression was fitted with feature names\n",
      "  warnings.warn(\n"
     ]
    }
   ],
   "source": [
    "import pandas as pd\n",
    "dir(pd)\n",
    "path = \"C:\\\\Users\\\\kavana\\\\OneDrive\\\\Desktop\\\\internship\\\\Data\\\\Data\\\\homeprices.csv\"\n",
    "data = pd.read_csv(path)\n",
    "print(data)\n",
    "print(data.info())\n",
    "print(data.isnull().sum())\n",
    "print(len(data))\n",
    "print(len(data.columns))\n",
    "print(data.shape[0])\n",
    "print(data.shape[1])\n",
    "rows,columns=data.shape\n",
    "print(rows)\n",
    "print(columns)\n",
    "\n",
    "inputs = data.drop('price','columns')\n",
    "output = data.drop('area','columns')\n",
    "print(inputs)\n",
    "print(output)\n",
    "\n",
    "import matplotlib.pyplot as plt\n",
    "\n",
    "plt.xlabel('Area')\n",
    "plt.ylabel('Price')\n",
    "plt.scatter(inputs,output)\n",
    "plt.show()\n",
    "\n",
    "\n",
    "import sklearn\n",
    "from sklearn import linear_model\n",
    "\n",
    "model = linear_model.LinearRegression()\n",
    "model.fit(inputs,output)\n",
    "\n",
    "result = model.predict([[2600]])\n",
    "print(result)\n",
    "\n",
    "acc = model.score(inputs,output)\n",
    "print(acc*100)\n",
    "\n",
    "intercept = model.intercept_\n",
    "coef = model.coef_\n",
    "print(intercept)\n",
    "print(coef)\n",
    "\n",
    "#y=mx+b  x-area 2600 y-price theoratical calculation\n",
    "\n",
    "y= coef*2600 + intercept\n",
    "print(y)"
   ]
  },
  {
   "cell_type": "code",
   "execution_count": null,
   "id": "d4f63369",
   "metadata": {},
   "outputs": [],
   "source": []
  }
 ],
 "metadata": {
  "kernelspec": {
   "display_name": "Python 3 (ipykernel)",
   "language": "python",
   "name": "python3"
  },
  "language_info": {
   "codemirror_mode": {
    "name": "ipython",
    "version": 3
   },
   "file_extension": ".py",
   "mimetype": "text/x-python",
   "name": "python",
   "nbconvert_exporter": "python",
   "pygments_lexer": "ipython3",
   "version": "3.9.12"
  }
 },
 "nbformat": 4,
 "nbformat_minor": 5
}
