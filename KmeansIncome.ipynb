{
 "cells": [
  {
   "cell_type": "code",
   "execution_count": 20,
   "id": "537fb8a3",
   "metadata": {},
   "outputs": [
    {
     "name": "stdout",
     "output_type": "stream",
     "text": [
      "        Name  Age  Income($)\n",
      "0        Rob   27      70000\n",
      "1    Michael   29      90000\n",
      "2      Mohan   29      61000\n",
      "3     Ismail   28      60000\n",
      "4       Kory   42     150000\n",
      "5     Gautam   39     155000\n",
      "6      David   41     160000\n",
      "7     Andrea   38     162000\n",
      "8       Brad   36     156000\n",
      "9   Angelina   35     130000\n",
      "10    Donald   37     137000\n",
      "11       Tom   26      45000\n",
      "12    Arnold   27      48000\n",
      "13     Jared   28      51000\n",
      "14     Stark   29      49500\n",
      "15    Ranbir   32      53000\n",
      "16    Dipika   40      65000\n",
      "17  Priyanka   41      63000\n",
      "18      Nick   43      64000\n",
      "19      Alia   39      80000\n",
      "20       Sid   41      82000\n",
      "21     Abdul   39      58000\n"
     ]
    },
    {
     "data": {
      "image/png": "[encoded data removed]",
      "text/plain": [
       "<Figure size 432x288 with 1 Axes>"
      ]
     },
     "metadata": {
      "needs_background": "light"
     },
     "output_type": "display_data"
    },
    {
     "name": "stdout",
     "output_type": "stream",
     "text": [
      "        Name       Age  Income($)\n",
      "0        Rob  0.058824      70000\n",
      "1    Michael  0.176471      90000\n",
      "2      Mohan  0.176471      61000\n",
      "3     Ismail  0.117647      60000\n",
      "4       Kory  0.941176     150000\n",
      "5     Gautam  0.764706     155000\n",
      "6      David  0.882353     160000\n",
      "7     Andrea  0.705882     162000\n",
      "8       Brad  0.588235     156000\n",
      "9   Angelina  0.529412     130000\n",
      "10    Donald  0.647059     137000\n",
      "11       Tom  0.000000      45000\n",
      "12    Arnold  0.058824      48000\n",
      "13     Jared  0.117647      51000\n",
      "14     Stark  0.176471      49500\n",
      "15    Ranbir  0.352941      53000\n",
      "16    Dipika  0.823529      65000\n",
      "17  Priyanka  0.882353      63000\n",
      "18      Nick  1.000000      64000\n",
      "19      Alia  0.764706      80000\n",
      "20       Sid  0.882353      82000\n",
      "21     Abdul  0.764706      58000\n",
      "        Name       Age  Income($)\n",
      "0        Rob  0.058824   0.213675\n",
      "1    Michael  0.176471   0.384615\n",
      "2      Mohan  0.176471   0.136752\n",
      "3     Ismail  0.117647   0.128205\n",
      "4       Kory  0.941176   0.897436\n",
      "5     Gautam  0.764706   0.940171\n",
      "6      David  0.882353   0.982906\n",
      "7     Andrea  0.705882   1.000000\n",
      "8       Brad  0.588235   0.948718\n",
      "9   Angelina  0.529412   0.726496\n",
      "10    Donald  0.647059   0.786325\n",
      "11       Tom  0.000000   0.000000\n",
      "12    Arnold  0.058824   0.025641\n",
      "13     Jared  0.117647   0.051282\n",
      "14     Stark  0.176471   0.038462\n",
      "15    Ranbir  0.352941   0.068376\n",
      "16    Dipika  0.823529   0.170940\n",
      "17  Priyanka  0.882353   0.153846\n",
      "18      Nick  1.000000   0.162393\n",
      "19      Alia  0.764706   0.299145\n",
      "20       Sid  0.882353   0.316239\n",
      "21     Abdul  0.764706   0.111111\n"
     ]
    },
    {
     "name": "stderr",
     "output_type": "stream",
     "text": [
      "No artists with labels found to put in legend.  Note that artists whose label start with an underscore are ignored when legend() is called with no argument.\n"
     ]
    },
    {
     "name": "stdout",
     "output_type": "stream",
     "text": [
      "[1 1 1 1 2 2 2 2 2 2 2 1 1 1 1 1 0 0 0 0 0 0]\n",
      "        Name       Age  Income($)  cluster\n",
      "0        Rob  0.058824   0.213675        1\n",
      "1    Michael  0.176471   0.384615        1\n",
      "2      Mohan  0.176471   0.136752        1\n",
      "3     Ismail  0.117647   0.128205        1\n",
      "4       Kory  0.941176   0.897436        2\n",
      "5     Gautam  0.764706   0.940171        2\n",
      "6      David  0.882353   0.982906        2\n",
      "7     Andrea  0.705882   1.000000        2\n",
      "8       Brad  0.588235   0.948718        2\n",
      "9   Angelina  0.529412   0.726496        2\n",
      "10    Donald  0.647059   0.786325        2\n",
      "11       Tom  0.000000   0.000000        1\n",
      "12    Arnold  0.058824   0.025641        1\n",
      "13     Jared  0.117647   0.051282        1\n",
      "14     Stark  0.176471   0.038462        1\n",
      "15    Ranbir  0.352941   0.068376        1\n",
      "16    Dipika  0.823529   0.170940        0\n",
      "17  Priyanka  0.882353   0.153846        0\n",
      "18      Nick  1.000000   0.162393        0\n",
      "19      Alia  0.764706   0.299145        0\n",
      "20       Sid  0.882353   0.316239        0\n",
      "21     Abdul  0.764706   0.111111        0\n",
      "        Name       Age  Income($)  cluster\n",
      "16    Dipika  0.823529   0.170940        0\n",
      "17  Priyanka  0.882353   0.153846        0\n",
      "18      Nick  1.000000   0.162393        0\n",
      "19      Alia  0.764706   0.299145        0\n",
      "20       Sid  0.882353   0.316239        0\n",
      "21     Abdul  0.764706   0.111111        0\n",
      "       Name       Age  Income($)  cluster\n",
      "0       Rob  0.058824   0.213675        1\n",
      "1   Michael  0.176471   0.384615        1\n",
      "2     Mohan  0.176471   0.136752        1\n",
      "3    Ismail  0.117647   0.128205        1\n",
      "11      Tom  0.000000   0.000000        1\n",
      "12   Arnold  0.058824   0.025641        1\n",
      "13    Jared  0.117647   0.051282        1\n",
      "14    Stark  0.176471   0.038462        1\n",
      "15   Ranbir  0.352941   0.068376        1\n",
      "        Name       Age  Income($)  cluster\n",
      "4       Kory  0.941176   0.897436        2\n",
      "5     Gautam  0.764706   0.940171        2\n",
      "6      David  0.882353   0.982906        2\n",
      "7     Andrea  0.705882   1.000000        2\n",
      "8       Brad  0.588235   0.948718        2\n",
      "9   Angelina  0.529412   0.726496        2\n",
      "10    Donald  0.647059   0.786325        2\n",
      "[[0.85294118 0.2022792 ]\n",
      " [0.1372549  0.11633428]\n",
      " [0.72268908 0.8974359 ]]\n"
     ]
    },
    {
     "data": {
      "text/plain": [
       "<matplotlib.legend.Legend at 0x1ae5e794490>"
      ]
     },
     "execution_count": 20,
     "metadata": {},
     "output_type": "execute_result"
    },
    {
     "data": {
      "image/png": "[encoded data removed]",
      "text/plain": [
       "<Figure size 432x288 with 1 Axes>"
      ]
     },
     "metadata": {
      "needs_background": "light"
     },
     "output_type": "display_data"
    }
   ],
   "source": [
    "import pandas as pd\n",
    "import matplotlib.pyplot as plt\n",
    "\n",
    "path = \"C:\\\\Users\\\\kavana\\\\OneDrive\\\\Desktop\\\\internship\\\\Data\\\\Data\\\\income.csv\"\n",
    "\n",
    "data = pd.read_csv(path)\n",
    "print(data)\n",
    "\n",
    "plt.xlabel('Age')\n",
    "plt.ylabel('Income')\n",
    "plt.scatter(data['Age'],data['Income($)'])\n",
    "plt.show()\n",
    "\n",
    "from sklearn.preprocessing import MinMaxScaler\n",
    "scaler = MinMaxScaler()\n",
    "\n",
    "scaler.fit(data[['Age']])\n",
    "data['Age']= scaler.fit_transform(data[['Age']])\n",
    "print(data)\n",
    "\n",
    "scaler.fit(data[['Age']])\n",
    "data['Income($)']= scaler.fit_transform(data[['Income($)']])\n",
    "print(data)\n",
    "\n",
    "import sklearn\n",
    "from sklearn.cluster import KMeans\n",
    "km = KMeans(n_clusters=3)\n",
    "\n",
    "y_predict = km.fit_predict(data[['Age','Income($)']])\n",
    "\n",
    "print(y_predict)\n",
    "data['cluster']=y_predict\n",
    "print(data)\n",
    "\n",
    "data1 = data[data.cluster==0]\n",
    "data2 = data[data.cluster==1]\n",
    "data3 = data[data.cluster==2]\n",
    "\n",
    "\n",
    "\n",
    "print(data1)\n",
    "print(data2)\n",
    "print(data3)\n",
    "print(km.cluster_centers_)\n",
    "plt.scatter(data1['Age'],data1['Income($)'],color='green')\n",
    "plt.scatter(data2['Age'],data2['Income($)'],color='blue')\n",
    "plt.scatter(data3['Age'],data3['Income($)'],color='red')\n",
    "\n",
    "plt.scatter(km.cluster_centers_[:,0],km.cluster_centers_[:,1],color='grey',marker='*')\n",
    "plt.legend()\n",
    "\n",
    "\n"
   ]
  },
  {
   "cell_type": "code",
   "execution_count": null,
   "id": "38f61d5e",
   "metadata": {},
   "outputs": [],
   "source": []
  }
 ],
 "metadata": {
  "kernelspec": {
   "display_name": "Python 3 (ipykernel)",
   "language": "python",
   "name": "python3"
  },
  "language_info": {
   "codemirror_mode": {
    "name": "ipython",
    "version": 3
   },
   "file_extension": ".py",
   "mimetype": "text/x-python",
   "name": "python",
   "nbconvert_exporter": "python",
   "pygments_lexer": "ipython3",
   "version": "3.9.12"
  }
 },
 "nbformat": 4,
 "nbformat_minor": 5
}
