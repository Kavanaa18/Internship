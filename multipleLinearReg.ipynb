{
 "cells": [
  {
   "cell_type": "code",
   "execution_count": 13,
   "id": "fc6220e8",
   "metadata": {},
   "outputs": [
    {
     "name": "stdout",
     "output_type": "stream",
     "text": [
      "   area  bedrooms  age   price\n",
      "0  2600       3.0   20  550000\n",
      "1  3000       4.0   15  565000\n",
      "2  3200       NaN   18  610000\n",
      "3  3600       3.0   30  595000\n",
      "4  4000       5.0    8  760000\n",
      "5  4100       6.0    8  810000\n",
      "<class 'pandas.core.frame.DataFrame'>\n",
      "RangeIndex: 6 entries, 0 to 5\n",
      "Data columns (total 4 columns):\n",
      " #   Column    Non-Null Count  Dtype  \n",
      "---  ------    --------------  -----  \n",
      " 0   area      6 non-null      int64  \n",
      " 1   bedrooms  5 non-null      float64\n",
      " 2   age       6 non-null      int64  \n",
      " 3   price     6 non-null      int64  \n",
      "dtypes: float64(1), int64(3)\n",
      "memory usage: 320.0 bytes\n",
      "None\n",
      "area        0\n",
      "bedrooms    1\n",
      "age         0\n",
      "price       0\n",
      "dtype: int64\n",
      "4.0\n",
      "   area  bedrooms  age\n",
      "0  2600       3.0   20\n",
      "1  3000       4.0   15\n",
      "2  3200       4.0   18\n",
      "3  3600       3.0   30\n",
      "4  4000       5.0    8\n",
      "5  4100       6.0    8\n",
      "    price\n",
      "0  550000\n",
      "1  565000\n",
      "2  610000\n",
      "3  595000\n",
      "4  760000\n",
      "5  810000\n",
      "[[955261.15655044]]\n",
      "[221323.0018654]\n",
      "[[  112.06244194 23388.88007794 -3231.71790863]]\n",
      "[596545.71749527]\n"
     ]
    },
    {
     "name": "stderr",
     "output_type": "stream",
     "text": [
      "C:\\Users\\kavana\\AppData\\Local\\Temp\\ipykernel_48300\\1124894753.py:21: FutureWarning: In a future version of pandas all arguments of DataFrame.drop except for the argument 'labels' will be keyword-only.\n",
      "  inputs = data.drop('price','columns')\n",
      "C:\\Users\\kavana\\AppData\\Local\\Temp\\ipykernel_48300\\1124894753.py:22: FutureWarning: In a future version of pandas all arguments of DataFrame.drop except for the argument 'labels' will be keyword-only.\n",
      "  output = data.drop(['area','bedrooms','age'],'columns')\n",
      "C:\\ProgramData\\Anaconda3\\lib\\site-packages\\sklearn\\base.py:450: UserWarning: X does not have valid feature names, but LinearRegression was fitted with feature names\n",
      "  warnings.warn(\n"
     ]
    }
   ],
   "source": [
    "import pandas as pd\n",
    "\n",
    "dir(pd)\n",
    "path = \"C:\\\\Users\\\\kavana\\\\OneDrive\\\\Desktop\\\\internship\\\\Data\\\\Data\\\\homeprices_Mul.csv\"\n",
    "data = pd.read_csv(path)\n",
    "\n",
    "print(data)\n",
    "print(data.info())\n",
    "print(data.isnull().sum())\n",
    "\n",
    "mean = data['bedrooms'].median()\n",
    "print(mean)\n",
    "\n",
    "#temp = data['bedrooms'].fillna(mean)\n",
    "#print(temp)\n",
    "data['bedrooms'] = data['bedrooms'].fillna(mean)\n",
    "\n",
    "\n",
    "\n",
    "\n",
    "inputs = data.drop('price','columns')\n",
    "output = data.drop(['area','bedrooms','age'],'columns')\n",
    "print(inputs)\n",
    "print(output)\n",
    "\n",
    "import sklearn\n",
    "from sklearn import linear_model\n",
    "\n",
    "model = linear_model.LinearRegression()\n",
    "model.fit(inputs,output)\n",
    "\n",
    "result = model.predict([[6500,3,20]])\n",
    "print(result)\n",
    "\n",
    "\n",
    "intercept = model.intercept_\n",
    "coef = model.coef_\n",
    "print(intercept)\n",
    "print(coef)\n",
    "\n",
    "\n",
    "y= 112.06244194*2600+23388.88007794*4+(-3231.71790863*3)+intercept\n",
    "print(y)"
   ]
  },
  {
   "cell_type": "code",
   "execution_count": null,
   "id": "423fb09e",
   "metadata": {},
   "outputs": [],
   "source": []
  },
  {
   "cell_type": "code",
   "execution_count": null,
   "id": "db4041f3",
   "metadata": {},
   "outputs": [],
   "source": []
  }
 ],
 "metadata": {
  "kernelspec": {
   "display_name": "Python 3 (ipykernel)",
   "language": "python",
   "name": "python3"
  },
  "language_info": {
   "codemirror_mode": {
    "name": "ipython",
    "version": 3
   },
   "file_extension": ".py",
   "mimetype": "text/x-python",
   "name": "python",
   "nbconvert_exporter": "python",
   "pygments_lexer": "ipython3",
   "version": "3.9.12"
  }
 },
 "nbformat": 4,
 "nbformat_minor": 5
}
